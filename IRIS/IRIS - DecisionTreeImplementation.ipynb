{
 "cells": [
  {
   "cell_type": "markdown",
   "metadata": {},
   "source": [
    "### Module Imports"
   ]
  },
  {
   "cell_type": "code",
   "execution_count": 1,
   "metadata": {},
   "outputs": [],
   "source": [
    "from sklearn import datasets\n",
    "import pandas as pd\n",
    "import math"
   ]
  },
  {
   "cell_type": "markdown",
   "metadata": {},
   "source": [
    "## Dataset - Iris"
   ]
  },
  {
   "cell_type": "code",
   "execution_count": 2,
   "metadata": {},
   "outputs": [],
   "source": [
    "iris = datasets.load_iris()"
   ]
  },
  {
   "cell_type": "markdown",
   "metadata": {},
   "source": [
    "# Functions"
   ]
  },
  {
   "cell_type": "markdown",
   "metadata": {},
   "source": [
    "### label(val, *boundaries) => to find label for a value"
   ]
  },
  {
   "cell_type": "code",
   "execution_count": 3,
   "metadata": {},
   "outputs": [],
   "source": [
    "#Function to find label for a value\n",
    "#if MIN_Value <=val < (m + Mean_Value) / 2 then it is assigned label a\n",
    "#if (m + Mean_Value) <=val < Mean_Value then it is assigned label b\n",
    "#if (Mean_Value) <=val < (Mean_Value + MAX_Value)/2 then it is assigned label c\n",
    "#if (Mean_Value + MAX_Value)/2 <=val <= MAX_Value  then it is assigned label d\n",
    "\n",
    "def label(val, *boundaries):\n",
    "    if (val < boundaries[0]):\n",
    "        return 'a'\n",
    "    elif (val < boundaries[1]):\n",
    "        return 'b'\n",
    "    elif (val < boundaries[2]):\n",
    "        return 'c'\n",
    "    else:\n",
    "        return 'd'\n"
   ]
  },
  {
   "cell_type": "markdown",
   "metadata": {},
   "source": [
    "### toLabel(df, old_feature_name) => to convert a continuous data into labelled data"
   ]
  },
  {
   "cell_type": "code",
   "execution_count": 4,
   "metadata": {},
   "outputs": [],
   "source": [
    "#Function to convert a continuous data into labelled data\n",
    "#There are 4 lables  - a, b, c, d\n",
    "def toLabel(df, old_feature_name):\n",
    "    second = df[old_feature_name].mean()\n",
    "    minimum = df[old_feature_name].min()\n",
    "    first = (minimum + second)/2\n",
    "    maximum = df[old_feature_name].max()\n",
    "    third = (maximum + second)/2\n",
    "    return df[old_feature_name].apply(label, args= (first, second, third))"
   ]
  },
  {
   "cell_type": "markdown",
   "metadata": {},
   "source": [
    "# Input data df"
   ]
  },
  {
   "cell_type": "code",
   "execution_count": 5,
   "metadata": {},
   "outputs": [],
   "source": [
    "df = pd.DataFrame(iris.data)\n",
    "df.columns = [\"sl\", \"sw\", 'pl', 'pw']"
   ]
  },
  {
   "cell_type": "markdown",
   "metadata": {},
   "source": [
    "## Convert all columns to labelled data"
   ]
  },
  {
   "cell_type": "code",
   "execution_count": 6,
   "metadata": {},
   "outputs": [],
   "source": [
    "#Convert all columns to labelled data\n",
    "df['sl_labeled'] = toLabel(df, 'sl')\n",
    "df['sw_labeled'] = toLabel(df, 'sw')\n",
    "df['pl_labeled'] = toLabel(df, 'pl')\n",
    "df['pw_labeled'] = toLabel(df, 'pw')\n",
    "# df"
   ]
  },
  {
   "cell_type": "markdown",
   "metadata": {},
   "source": [
    "### drop ['sl', 'sw', 'pl', 'pw'] columns from df"
   ]
  },
  {
   "cell_type": "code",
   "execution_count": 7,
   "metadata": {},
   "outputs": [
    {
     "data": {
      "text/html": [
       "<div>\n",
       "<style scoped>\n",
       "    .dataframe tbody tr th:only-of-type {\n",
       "        vertical-align: middle;\n",
       "    }\n",
       "\n",
       "    .dataframe tbody tr th {\n",
       "        vertical-align: top;\n",
       "    }\n",
       "\n",
       "    .dataframe thead th {\n",
       "        text-align: right;\n",
       "    }\n",
       "</style>\n",
       "<table border=\"1\" class=\"dataframe\">\n",
       "  <thead>\n",
       "    <tr style=\"text-align: right;\">\n",
       "      <th></th>\n",
       "      <th>sl_labeled</th>\n",
       "      <th>sw_labeled</th>\n",
       "      <th>pl_labeled</th>\n",
       "      <th>pw_labeled</th>\n",
       "    </tr>\n",
       "  </thead>\n",
       "  <tbody>\n",
       "    <tr>\n",
       "      <th>0</th>\n",
       "      <td>b</td>\n",
       "      <td>c</td>\n",
       "      <td>a</td>\n",
       "      <td>a</td>\n",
       "    </tr>\n",
       "    <tr>\n",
       "      <th>1</th>\n",
       "      <td>a</td>\n",
       "      <td>b</td>\n",
       "      <td>a</td>\n",
       "      <td>a</td>\n",
       "    </tr>\n",
       "    <tr>\n",
       "      <th>2</th>\n",
       "      <td>a</td>\n",
       "      <td>c</td>\n",
       "      <td>a</td>\n",
       "      <td>a</td>\n",
       "    </tr>\n",
       "    <tr>\n",
       "      <th>3</th>\n",
       "      <td>a</td>\n",
       "      <td>c</td>\n",
       "      <td>a</td>\n",
       "      <td>a</td>\n",
       "    </tr>\n",
       "    <tr>\n",
       "      <th>4</th>\n",
       "      <td>a</td>\n",
       "      <td>c</td>\n",
       "      <td>a</td>\n",
       "      <td>a</td>\n",
       "    </tr>\n",
       "    <tr>\n",
       "      <th>...</th>\n",
       "      <td>...</td>\n",
       "      <td>...</td>\n",
       "      <td>...</td>\n",
       "      <td>...</td>\n",
       "    </tr>\n",
       "    <tr>\n",
       "      <th>145</th>\n",
       "      <td>c</td>\n",
       "      <td>b</td>\n",
       "      <td>c</td>\n",
       "      <td>d</td>\n",
       "    </tr>\n",
       "    <tr>\n",
       "      <th>146</th>\n",
       "      <td>c</td>\n",
       "      <td>a</td>\n",
       "      <td>c</td>\n",
       "      <td>d</td>\n",
       "    </tr>\n",
       "    <tr>\n",
       "      <th>147</th>\n",
       "      <td>c</td>\n",
       "      <td>b</td>\n",
       "      <td>c</td>\n",
       "      <td>d</td>\n",
       "    </tr>\n",
       "    <tr>\n",
       "      <th>148</th>\n",
       "      <td>c</td>\n",
       "      <td>c</td>\n",
       "      <td>d</td>\n",
       "      <td>d</td>\n",
       "    </tr>\n",
       "    <tr>\n",
       "      <th>149</th>\n",
       "      <td>c</td>\n",
       "      <td>b</td>\n",
       "      <td>c</td>\n",
       "      <td>c</td>\n",
       "    </tr>\n",
       "  </tbody>\n",
       "</table>\n",
       "<p>150 rows × 4 columns</p>\n",
       "</div>"
      ],
      "text/plain": [
       "    sl_labeled sw_labeled pl_labeled pw_labeled\n",
       "0            b          c          a          a\n",
       "1            a          b          a          a\n",
       "2            a          c          a          a\n",
       "3            a          c          a          a\n",
       "4            a          c          a          a\n",
       "..         ...        ...        ...        ...\n",
       "145          c          b          c          d\n",
       "146          c          a          c          d\n",
       "147          c          b          c          d\n",
       "148          c          c          d          d\n",
       "149          c          b          c          c\n",
       "\n",
       "[150 rows x 4 columns]"
      ]
     },
     "execution_count": 7,
     "metadata": {},
     "output_type": "execute_result"
    }
   ],
   "source": [
    "df.drop(['sl', 'sw', 'pl', 'pw'], axis = 1, inplace = True)\n",
    "df"
   ]
  },
  {
   "cell_type": "code",
   "execution_count": null,
   "metadata": {},
   "outputs": [],
   "source": []
  },
  {
   "cell_type": "markdown",
   "metadata": {},
   "source": [
    "# Output data y"
   ]
  },
  {
   "cell_type": "code",
   "execution_count": 8,
   "metadata": {},
   "outputs": [
    {
     "data": {
      "text/html": [
       "<div>\n",
       "<style scoped>\n",
       "    .dataframe tbody tr th:only-of-type {\n",
       "        vertical-align: middle;\n",
       "    }\n",
       "\n",
       "    .dataframe tbody tr th {\n",
       "        vertical-align: top;\n",
       "    }\n",
       "\n",
       "    .dataframe thead th {\n",
       "        text-align: right;\n",
       "    }\n",
       "</style>\n",
       "<table border=\"1\" class=\"dataframe\">\n",
       "  <thead>\n",
       "    <tr style=\"text-align: right;\">\n",
       "      <th></th>\n",
       "      <th>ftype</th>\n",
       "    </tr>\n",
       "  </thead>\n",
       "  <tbody>\n",
       "    <tr>\n",
       "      <th>0</th>\n",
       "      <td>0</td>\n",
       "    </tr>\n",
       "    <tr>\n",
       "      <th>1</th>\n",
       "      <td>0</td>\n",
       "    </tr>\n",
       "    <tr>\n",
       "      <th>2</th>\n",
       "      <td>0</td>\n",
       "    </tr>\n",
       "    <tr>\n",
       "      <th>3</th>\n",
       "      <td>0</td>\n",
       "    </tr>\n",
       "    <tr>\n",
       "      <th>4</th>\n",
       "      <td>0</td>\n",
       "    </tr>\n",
       "    <tr>\n",
       "      <th>...</th>\n",
       "      <td>...</td>\n",
       "    </tr>\n",
       "    <tr>\n",
       "      <th>145</th>\n",
       "      <td>2</td>\n",
       "    </tr>\n",
       "    <tr>\n",
       "      <th>146</th>\n",
       "      <td>2</td>\n",
       "    </tr>\n",
       "    <tr>\n",
       "      <th>147</th>\n",
       "      <td>2</td>\n",
       "    </tr>\n",
       "    <tr>\n",
       "      <th>148</th>\n",
       "      <td>2</td>\n",
       "    </tr>\n",
       "    <tr>\n",
       "      <th>149</th>\n",
       "      <td>2</td>\n",
       "    </tr>\n",
       "  </tbody>\n",
       "</table>\n",
       "<p>150 rows × 1 columns</p>\n",
       "</div>"
      ],
      "text/plain": [
       "     ftype\n",
       "0        0\n",
       "1        0\n",
       "2        0\n",
       "3        0\n",
       "4        0\n",
       "..     ...\n",
       "145      2\n",
       "146      2\n",
       "147      2\n",
       "148      2\n",
       "149      2\n",
       "\n",
       "[150 rows x 1 columns]"
      ]
     },
     "execution_count": 8,
     "metadata": {},
     "output_type": "execute_result"
    }
   ],
   "source": [
    "y = pd.DataFrame(iris.target)\n",
    "y.columns = ['ftype']\n",
    "y"
   ]
  },
  {
   "cell_type": "markdown",
   "metadata": {},
   "source": [
    "### flower_map to map: code --> species"
   ]
  },
  {
   "cell_type": "code",
   "execution_count": 9,
   "metadata": {},
   "outputs": [],
   "source": [
    "flower_map = {\n",
    "    0: 'Iris Setosa',\n",
    "    1: 'Iris Versicolour',\n",
    "    2: 'Iris Virginica'\n",
    "}"
   ]
  },
  {
   "cell_type": "code",
   "execution_count": null,
   "metadata": {},
   "outputs": [],
   "source": []
  },
  {
   "cell_type": "code",
   "execution_count": null,
   "metadata": {},
   "outputs": [],
   "source": []
  },
  {
   "cell_type": "markdown",
   "metadata": {},
   "source": [
    "# Decision Tree Node Class"
   ]
  },
  {
   "cell_type": "code",
   "execution_count": 10,
   "metadata": {},
   "outputs": [],
   "source": [
    "#  A class to represent a node of a Decision Tree\n",
    "class DecisionTreeNode:\n",
    "    def __init__(self):\n",
    "        self.depth_level = 0\n",
    "        self.count_map = None\n",
    "        self.entropy = 0\n",
    "        self.children = []\n",
    "        self.predicted_ftype = None"
   ]
  },
  {
   "cell_type": "code",
   "execution_count": null,
   "metadata": {},
   "outputs": [],
   "source": []
  },
  {
   "cell_type": "markdown",
   "metadata": {},
   "source": [
    "# Building Tree (Functions)"
   ]
  },
  {
   "cell_type": "markdown",
   "metadata": {},
   "source": [
    "### print_flower_counts(count_map) => function to print flower counts"
   ]
  },
  {
   "cell_type": "code",
   "execution_count": 11,
   "metadata": {},
   "outputs": [],
   "source": [
    "def print_flower_counts(count_map):\n",
    "    for i in range(len(count_map)):\n",
    "        fcode = count_map.index[i]\n",
    "        fname = flower_map[fcode]\n",
    "        count = count_map.values[i]\n",
    "        \n",
    "        print(f'Count of  {fcode}({fname})  =  {count}')"
   ]
  },
  {
   "cell_type": "markdown",
   "metadata": {},
   "source": [
    "### get_entropy(count_map, total_count) => function to calculate entropy"
   ]
  },
  {
   "cell_type": "code",
   "execution_count": 12,
   "metadata": {},
   "outputs": [],
   "source": [
    "def get_entropy(count_map, total_count):\n",
    "    entropy = 0\n",
    "    \n",
    "    for count in count_map.values:\n",
    "        probab_val = count/total_count\n",
    "        log_val = math.log2(probab_val)\n",
    "        \n",
    "        entropy -= probab_val*log_val\n",
    "        \n",
    "    return entropy"
   ]
  },
  {
   "cell_type": "markdown",
   "metadata": {},
   "source": [
    "### get_gain_ratio(df, y, best_feature, info_before_split) => function to calculate gain ratio"
   ]
  },
  {
   "cell_type": "code",
   "execution_count": 13,
   "metadata": {},
   "outputs": [],
   "source": [
    "def get_gain_ratio(df, y, best_feature, info_before_split):\n",
    "    # initialize split_info and info_after_split\n",
    "    info_after_split = 0\n",
    "    split_info = 0\n",
    "    \n",
    "    # possible values for best_feature\n",
    "    possible_values = set(df[best_feature])\n",
    "    \n",
    "    # loop over possible values : val\n",
    "    for val in possible_values:\n",
    "        # find subset of y with f == val\n",
    "        y_df = y[df[best_feature] == val]\n",
    "        \n",
    "        # weight of subset\n",
    "        weight = len(y_df)/len(y)\n",
    "        \n",
    "        # calculate entropy of subset\n",
    "        count_map = y_df.ftype.value_counts()\n",
    "        entropy = get_entropy(count_map, len(y_df))\n",
    "        \n",
    "        # add entropy with weight in info_after_split\n",
    "        info_after_split += weight * entropy\n",
    "            \n",
    "        # add weighted split_info in split_info\n",
    "        split_info -= weight*math.log2(weight)\n",
    "    \n",
    "    \n",
    "    # info_gain\n",
    "    info_gain = info_before_split - info_after_split\n",
    "    \n",
    "    # gain_ratio\n",
    "    gain_ratio = info_gain / split_info\n",
    "    return gain_ratio\n",
    "        "
   ]
  },
  {
   "cell_type": "markdown",
   "metadata": {},
   "source": [
    "## build_tree(df, y, unused_features, depth_level) => function to build the tree"
   ]
  },
  {
   "cell_type": "code",
   "execution_count": 14,
   "metadata": {},
   "outputs": [],
   "source": [
    "def build_tree(df, y, unused_features, depth_level):\n",
    "    # Create Decision Tree Node\n",
    "    node = DecisionTreeNode()\n",
    "    \n",
    "    # add depth level to node\n",
    "    node.depth_level = depth_level\n",
    "    \n",
    "    # add count map to node\n",
    "    node.count_map = y.ftype.value_counts()\n",
    "    \n",
    "    # add entropy to node\n",
    "    node.entropy = get_entropy(node.count_map, len(y))\n",
    "    \n",
    "    \n",
    "    # base cases\n",
    "    # 1. y contains only one distinct value\n",
    "    # 2. unused_features is empty => predict flower_type with majority\n",
    "    if len(set(y['ftype'])) == 1 or len(unused_features) == 0:\n",
    "        node.predicted_ftype = flower_map[node.count_map.index[0]]\n",
    "        return node\n",
    "\n",
    "    \n",
    "    # Initialize best_feature and min_mistakes\n",
    "    best_feature = \"\"\n",
    "    min_mistakes = float('infinity')\n",
    "    \n",
    "    for f in unused_features:\n",
    "        possible_values = set(df[f])\n",
    "        mistakes = 0\n",
    "        \n",
    "        # loop over possible values : val\n",
    "        for val in possible_values:\n",
    "            # find subset of df & y with f == val\n",
    "            val_df = df[df[f] == val]\n",
    "            y_df = y[df[f] == val]\n",
    "            \n",
    "            # find number of mistakes in this subset\n",
    "            # if we predict the most common y as the output\n",
    "            # find sum of all these mistakes\n",
    "            count_map = y_df.ftype.value_counts()\n",
    "            mistakes += len(y_df) - count_map.values[0]\n",
    "            \n",
    "            \n",
    "        # update best feature so that that particular feature\n",
    "        # makes least number of mistakes\n",
    "        if mistakes < min_mistakes:\n",
    "            min_mistakes = mistakes\n",
    "            best_feature = f\n",
    "            \n",
    "        \n",
    "    # here you should know the best feature, print it out\n",
    "    print(\"Best Feature \", best_feature)\n",
    "    \n",
    "    # print info_gain\n",
    "    info_gain = get_gain_ratio(df, y, best_feature, node.entropy)\n",
    "    print(f'Splitting on feature  {best_feature}  with gain ratio {info_gain}')\n",
    "    \n",
    "    print('----------------')\n",
    "    print()\n",
    "    \n",
    "    # remove best feature from unused features\n",
    "    unused_features.discard(best_feature)\n",
    "    \n",
    "    # loop over possible values of best feature\n",
    "    possible_values = set(df[best_feature])\n",
    "    for val in possible_values:\n",
    "        # call build tree recursively\n",
    "        new_df = df[df[best_feature] == val]\n",
    "        new_y = y[df[best_feature] == val]\n",
    "        \n",
    "        child_node = build_tree(new_df, new_y, unused_features, depth_level +1)\n",
    "        node.children.append(child_node)\n",
    "        \n",
    "    return node"
   ]
  },
  {
   "cell_type": "code",
   "execution_count": 15,
   "metadata": {},
   "outputs": [],
   "source": [
    "# def build_tree(df, y, unused_features, depth_level):\n",
    "#     # print depth level\n",
    "#     print('Level ', depth_level)\n",
    "    \n",
    "#     # Get count map for each flower\n",
    "#     count_map = y.ftype.value_counts()\n",
    "    \n",
    "#     # Print each flower type with its count\n",
    "#     print_flower_counts(count_map)\n",
    "    \n",
    "#     # Print entropy\n",
    "#     entropy = get_entropy(count_map, len(y))\n",
    "#     print(f'Current Entropy  is = {entropy}')\n",
    "    \n",
    "    \n",
    "#     # base cases\n",
    "#     # 1. y contains only one distinct value\n",
    "#     # 2. unused_features is empty\n",
    "#     if len(set(y['ftype'])) == 1 or len(unused_features) == 0:\n",
    "#         print('Predicted Flower type: ', flower_map[count_map.index[0]])\n",
    "#         print('Reached leaf Node')\n",
    "#         print('----------------')\n",
    "#         print()\n",
    "#         return\n",
    "\n",
    "    \n",
    "#     best_feature = \"\"\n",
    "#     min_mistakes = float('infinity')\n",
    "    \n",
    "#     for f in unused_features:\n",
    "#         possible_values = set(df[f])\n",
    "#         mistakes = 0\n",
    "        \n",
    "#         # loop over possible values : val\n",
    "#         for val in possible_values:\n",
    "#             # find subset of df & y with f == val\n",
    "#             val_df = df[df[f] == val]\n",
    "#             y_df = y[df[f] == val]\n",
    "            \n",
    "#             # find number of mistakes in this subset\n",
    "#             # if we predict the most common y as the output\n",
    "#             # find sum of all these mistakes\n",
    "#             count_map = y_df.ftype.value_counts()\n",
    "#             mistakes += len(y_df) - count_map.values[0]\n",
    "            \n",
    "            \n",
    "#         # update best feature so that that particular feature\n",
    "#         # makes least number of mistakes\n",
    "#         if mistakes < min_mistakes:\n",
    "#             min_mistakes = mistakes\n",
    "#             best_feature = f\n",
    "            \n",
    "        \n",
    "#     # here you should know the best feature, print it out\n",
    "#     print(\"Best Feature \", best_feature)\n",
    "    \n",
    "#     # print info_gain\n",
    "#     info_gain = get_gain_ratio(df, y, best_feature, entropy)\n",
    "#     print(f'Splitting on feature  {best_feature}  with gain ratio {info_gain}')\n",
    "    \n",
    "#     print('----------------')\n",
    "#     print()\n",
    "    \n",
    "#     # remove best feature from unused features\n",
    "#     unused_features.discard(best_feature)\n",
    "    \n",
    "#     # loop over possible values of best feature\n",
    "#     possible_values = set(df[best_feature])\n",
    "#     for val in possible_values:\n",
    "#         # call build tree recursively\n",
    "#         new_df = df[df[best_feature] == val]\n",
    "#         new_y = y[df[best_feature] == val]\n",
    "        \n",
    "#         build_tree(new_df, new_y, unused_features, depth_level +1)"
   ]
  },
  {
   "cell_type": "code",
   "execution_count": null,
   "metadata": {},
   "outputs": [],
   "source": []
  },
  {
   "cell_type": "markdown",
   "metadata": {},
   "source": [
    "# Build the Decision Tree | Run Code"
   ]
  },
  {
   "cell_type": "code",
   "execution_count": 16,
   "metadata": {},
   "outputs": [
    {
     "name": "stdout",
     "output_type": "stream",
     "text": [
      "Best Feature  pw_labeled\n",
      "Splitting on feature  pw_labeled  with gain ratio 0.6996382036222091\n",
      "----------------\n",
      "\n",
      "Best Feature  pl_labeled\n",
      "Splitting on feature  pl_labeled  with gain ratio 0.4334099495621067\n",
      "----------------\n",
      "\n",
      "Best Feature  sl_labeled\n",
      "Splitting on feature  sl_labeled  with gain ratio 0.12674503775809332\n",
      "----------------\n",
      "\n",
      "Best Feature  sw_labeled\n",
      "Splitting on feature  sw_labeled  with gain ratio 0.07092036405148876\n",
      "----------------\n",
      "\n"
     ]
    }
   ],
   "source": [
    "unused_features = set(df.columns)\n",
    "root = build_tree(df, y, unused_features, 0)"
   ]
  },
  {
   "cell_type": "markdown",
   "metadata": {},
   "source": [
    "# Print tree data - Pre-order traversal "
   ]
  },
  {
   "cell_type": "code",
   "execution_count": 17,
   "metadata": {},
   "outputs": [],
   "source": [
    "def pre_order_traversal(root):\n",
    "    if root is None:\n",
    "        return\n",
    "    \n",
    "    # print depth level\n",
    "    print('Level ', root.depth_level)\n",
    "    \n",
    "    # Print each flower type with its count\n",
    "    print_flower_counts(root.count_map)\n",
    "    \n",
    "    # print entropy\n",
    "    print(f'Current Entropy  is = {root.entropy}')\n",
    "    \n",
    "    # print prediction of flower type\n",
    "    if len(root.children) == 0:\n",
    "        print('Reached leaf Node')\n",
    "        \n",
    "    print('----------------')\n",
    "    print()\n",
    "        \n",
    "    # traverse children from left to right\n",
    "    for child_node in root.children:\n",
    "        pre_order_traversal(child_node)"
   ]
  },
  {
   "cell_type": "code",
   "execution_count": 18,
   "metadata": {},
   "outputs": [
    {
     "name": "stdout",
     "output_type": "stream",
     "text": [
      "Level  0\n",
      "Count of  0(Iris Setosa)  =  50\n",
      "Count of  1(Iris Versicolour)  =  50\n",
      "Count of  2(Iris Virginica)  =  50\n",
      "Current Entropy  is = 1.584962500721156\n",
      "----------------\n",
      "\n",
      "Level  1\n",
      "Count of  1(Iris Versicolour)  =  40\n",
      "Count of  2(Iris Virginica)  =  16\n",
      "Current Entropy  is = 0.863120568566631\n",
      "----------------\n",
      "\n",
      "Level  2\n",
      "Count of  1(Iris Versicolour)  =  39\n",
      "Count of  2(Iris Virginica)  =  8\n",
      "Current Entropy  is = 0.6581912658132185\n",
      "----------------\n",
      "\n",
      "Level  3\n",
      "Count of  1(Iris Versicolour)  =  23\n",
      "Count of  2(Iris Virginica)  =  7\n",
      "Current Entropy  is = 0.783776947484701\n",
      "----------------\n",
      "\n",
      "Level  4\n",
      "Count of  1(Iris Versicolour)  =  6\n",
      "Current Entropy  is = 0.0\n",
      "Reached leaf Node\n",
      "----------------\n",
      "\n",
      "Level  4\n",
      "Count of  1(Iris Versicolour)  =  3\n",
      "Count of  2(Iris Virginica)  =  1\n",
      "Current Entropy  is = 0.8112781244591328\n",
      "Reached leaf Node\n",
      "----------------\n",
      "\n",
      "Level  4\n",
      "Count of  1(Iris Versicolour)  =  14\n",
      "Count of  2(Iris Virginica)  =  6\n",
      "Current Entropy  is = 0.8812908992306927\n",
      "Reached leaf Node\n",
      "----------------\n",
      "\n",
      "Level  3\n",
      "Count of  2(Iris Virginica)  =  1\n",
      "Current Entropy  is = 0.0\n",
      "Reached leaf Node\n",
      "----------------\n",
      "\n",
      "Level  3\n",
      "Count of  1(Iris Versicolour)  =  14\n",
      "Current Entropy  is = 0.0\n",
      "Reached leaf Node\n",
      "----------------\n",
      "\n",
      "Level  3\n",
      "Count of  1(Iris Versicolour)  =  2\n",
      "Current Entropy  is = 0.0\n",
      "Reached leaf Node\n",
      "----------------\n",
      "\n",
      "Level  2\n",
      "Count of  2(Iris Virginica)  =  8\n",
      "Current Entropy  is = 0.0\n",
      "Reached leaf Node\n",
      "----------------\n",
      "\n",
      "Level  2\n",
      "Count of  1(Iris Versicolour)  =  1\n",
      "Current Entropy  is = 0.0\n",
      "Reached leaf Node\n",
      "----------------\n",
      "\n",
      "Level  1\n",
      "Count of  0(Iris Setosa)  =  50\n",
      "Current Entropy  is = 0.0\n",
      "Reached leaf Node\n",
      "----------------\n",
      "\n",
      "Level  1\n",
      "Count of  2(Iris Virginica)  =  34\n",
      "Current Entropy  is = 0.0\n",
      "Reached leaf Node\n",
      "----------------\n",
      "\n",
      "Level  1\n",
      "Count of  1(Iris Versicolour)  =  10\n",
      "Current Entropy  is = 0.0\n",
      "Reached leaf Node\n",
      "----------------\n",
      "\n"
     ]
    }
   ],
   "source": [
    "pre_order_traversal(root)"
   ]
  },
  {
   "cell_type": "markdown",
   "metadata": {},
   "source": [
    "# |||||||||||||||||||||||||||||||||||||||||||||||||||||||||||||||||||||||||||||||||||||||||||||||||||||||||||||||||||||||||||||||"
   ]
  }
 ],
 "metadata": {
  "kernelspec": {
   "display_name": "Python 3",
   "language": "python",
   "name": "python3"
  },
  "language_info": {
   "codemirror_mode": {
    "name": "ipython",
    "version": 3
   },
   "file_extension": ".py",
   "mimetype": "text/x-python",
   "name": "python",
   "nbconvert_exporter": "python",
   "pygments_lexer": "ipython3",
   "version": "3.8.8"
  }
 },
 "nbformat": 4,
 "nbformat_minor": 1
}
