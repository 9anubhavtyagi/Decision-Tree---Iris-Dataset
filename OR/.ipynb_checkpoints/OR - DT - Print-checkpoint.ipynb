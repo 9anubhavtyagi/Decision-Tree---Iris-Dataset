{
 "cells": [
  {
   "cell_type": "markdown",
   "id": "1113b22a",
   "metadata": {},
   "source": [
    "### Module Imports"
   ]
  },
  {
   "cell_type": "code",
   "execution_count": 1,
   "id": "23de484f",
   "metadata": {},
   "outputs": [],
   "source": [
    "import numpy as np\n",
    "import math"
   ]
  },
  {
   "cell_type": "markdown",
   "id": "9c84991f",
   "metadata": {},
   "source": [
    "### XOR Data"
   ]
  },
  {
   "cell_type": "code",
   "execution_count": 2,
   "id": "b8d2b7bb",
   "metadata": {},
   "outputs": [],
   "source": [
    "X = np.array([[0, 0], [0, 1], [1, 0], [1, 1]])\n",
    "Y = np.array([0, 1, 1, 1])"
   ]
  },
  {
   "cell_type": "code",
   "execution_count": null,
   "id": "7cfd8fb6",
   "metadata": {},
   "outputs": [],
   "source": []
  },
  {
   "cell_type": "markdown",
   "id": "f9b75ec8",
   "metadata": {},
   "source": [
    "# Decision Tree Implementation"
   ]
  },
  {
   "cell_type": "code",
   "execution_count": 3,
   "id": "b0a39f2a",
   "metadata": {},
   "outputs": [],
   "source": [
    "def get_count_map(Y):\n",
    "    map = {}\n",
    "    \n",
    "    for key in Y:\n",
    "        map[key] = map.get(key, 0) +1\n",
    "        \n",
    "    return map"
   ]
  },
  {
   "cell_type": "code",
   "execution_count": 4,
   "id": "1e3ef722",
   "metadata": {},
   "outputs": [],
   "source": [
    "def get_entropy(count_map, total_count):\n",
    "    entropy = 0\n",
    "    \n",
    "    for key in count_map:\n",
    "        probab_val = count_map[key]/total_count\n",
    "        log_val = math.log2(probab_val)\n",
    "        \n",
    "        entropy -= probab_val*log_val\n",
    "        \n",
    "    return entropy"
   ]
  },
  {
   "cell_type": "code",
   "execution_count": null,
   "id": "1f3e93a1",
   "metadata": {},
   "outputs": [],
   "source": []
  },
  {
   "cell_type": "code",
   "execution_count": null,
   "id": "a22ad843",
   "metadata": {},
   "outputs": [],
   "source": [
    "def decision_tree_print(X, Y, features, level):\n",
    "    # print depth level \n",
    "    print(f'Level: {level}')\n",
    "    \n",
    "    # get count map of outputs (Y)\n",
    "    count_map = get_count_map(Y)\n",
    "    \n",
    "    # print each class with its count\n",
    "    for key in count_map:\n",
    "        print(f'Count of  {key}  =  {count_map[key]}')\n",
    "        \n",
    "    # calculate and print entropy\n",
    "    entropy = get_entropy(count_map, len(Y))\n",
    "    print(f'Current Entropy  is = {entropy}')\n",
    "    \n",
    "    \n",
    "    # Case: if node is pure or no more features to split\n",
    "    if len(count_map) == 1 or len(features) == 0:\n",
    "        print('Reached Leaf Node')\n",
    "        return\n",
    "    \n",
    "    # Split case\n",
    "    \n",
    "    \n",
    "    \n",
    "        \n",
    "    \n",
    "    \n",
    "        "
   ]
  },
  {
   "cell_type": "code",
   "execution_count": null,
   "id": "02892282",
   "metadata": {},
   "outputs": [],
   "source": []
  },
  {
   "cell_type": "code",
   "execution_count": 5,
   "id": "c96bfa00",
   "metadata": {},
   "outputs": [],
   "source": [
    "count_map = get_count_map(Y)"
   ]
  },
  {
   "cell_type": "code",
   "execution_count": 6,
   "id": "5f0fa000",
   "metadata": {},
   "outputs": [
    {
     "data": {
      "text/plain": [
       "2"
      ]
     },
     "execution_count": 6,
     "metadata": {},
     "output_type": "execute_result"
    }
   ],
   "source": [
    "len(count_map)"
   ]
  },
  {
   "cell_type": "code",
   "execution_count": 7,
   "id": "0ba643e3",
   "metadata": {},
   "outputs": [
    {
     "data": {
      "text/plain": [
       "4"
      ]
     },
     "execution_count": 7,
     "metadata": {},
     "output_type": "execute_result"
    }
   ],
   "source": [
    "len(Y)"
   ]
  },
  {
   "cell_type": "code",
   "execution_count": 8,
   "id": "37d8d02c",
   "metadata": {},
   "outputs": [
    {
     "data": {
      "text/plain": [
       "0.8112781244591328"
      ]
     },
     "execution_count": 8,
     "metadata": {},
     "output_type": "execute_result"
    }
   ],
   "source": [
    "get_entropy(count_map)"
   ]
  },
  {
   "cell_type": "code",
   "execution_count": null,
   "id": "b0fb25d0",
   "metadata": {},
   "outputs": [],
   "source": []
  }
 ],
 "metadata": {
  "kernelspec": {
   "display_name": "Python 3",
   "language": "python",
   "name": "python3"
  },
  "language_info": {
   "codemirror_mode": {
    "name": "ipython",
    "version": 3
   },
   "file_extension": ".py",
   "mimetype": "text/x-python",
   "name": "python",
   "nbconvert_exporter": "python",
   "pygments_lexer": "ipython3",
   "version": "3.8.8"
  }
 },
 "nbformat": 4,
 "nbformat_minor": 5
}
