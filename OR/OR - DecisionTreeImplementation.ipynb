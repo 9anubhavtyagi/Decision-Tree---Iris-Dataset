{
 "cells": [
  {
   "cell_type": "markdown",
   "metadata": {},
   "source": [
    "### Module Imports"
   ]
  },
  {
   "cell_type": "code",
   "execution_count": 1,
   "metadata": {},
   "outputs": [],
   "source": [
    "import pandas as pd\n",
    "import math"
   ]
  },
  {
   "cell_type": "markdown",
   "metadata": {},
   "source": [
    "# Input data df"
   ]
  },
  {
   "cell_type": "code",
   "execution_count": 2,
   "metadata": {},
   "outputs": [
    {
     "data": {
      "text/html": [
       "<div>\n",
       "<style scoped>\n",
       "    .dataframe tbody tr th:only-of-type {\n",
       "        vertical-align: middle;\n",
       "    }\n",
       "\n",
       "    .dataframe tbody tr th {\n",
       "        vertical-align: top;\n",
       "    }\n",
       "\n",
       "    .dataframe thead th {\n",
       "        text-align: right;\n",
       "    }\n",
       "</style>\n",
       "<table border=\"1\" class=\"dataframe\">\n",
       "  <thead>\n",
       "    <tr style=\"text-align: right;\">\n",
       "      <th></th>\n",
       "      <th>X1</th>\n",
       "      <th>X2</th>\n",
       "    </tr>\n",
       "  </thead>\n",
       "  <tbody>\n",
       "    <tr>\n",
       "      <th>0</th>\n",
       "      <td>0</td>\n",
       "      <td>0</td>\n",
       "    </tr>\n",
       "    <tr>\n",
       "      <th>1</th>\n",
       "      <td>0</td>\n",
       "      <td>1</td>\n",
       "    </tr>\n",
       "    <tr>\n",
       "      <th>2</th>\n",
       "      <td>1</td>\n",
       "      <td>0</td>\n",
       "    </tr>\n",
       "    <tr>\n",
       "      <th>3</th>\n",
       "      <td>1</td>\n",
       "      <td>1</td>\n",
       "    </tr>\n",
       "  </tbody>\n",
       "</table>\n",
       "</div>"
      ],
      "text/plain": [
       "   X1  X2\n",
       "0   0   0\n",
       "1   0   1\n",
       "2   1   0\n",
       "3   1   1"
      ]
     },
     "execution_count": 2,
     "metadata": {},
     "output_type": "execute_result"
    }
   ],
   "source": [
    "X1 = [0, 0, 1, 1]\n",
    "X2 = [0, 1, 0, 1]\n",
    "\n",
    "df = pd.DataFrame({\n",
    "    'X1': X1,\n",
    "    'X2': X2\n",
    "})\n",
    "\n",
    "df"
   ]
  },
  {
   "cell_type": "code",
   "execution_count": null,
   "metadata": {},
   "outputs": [],
   "source": []
  },
  {
   "cell_type": "markdown",
   "metadata": {},
   "source": [
    "# Output data y"
   ]
  },
  {
   "cell_type": "code",
   "execution_count": 3,
   "metadata": {},
   "outputs": [
    {
     "data": {
      "text/html": [
       "<div>\n",
       "<style scoped>\n",
       "    .dataframe tbody tr th:only-of-type {\n",
       "        vertical-align: middle;\n",
       "    }\n",
       "\n",
       "    .dataframe tbody tr th {\n",
       "        vertical-align: top;\n",
       "    }\n",
       "\n",
       "    .dataframe thead th {\n",
       "        text-align: right;\n",
       "    }\n",
       "</style>\n",
       "<table border=\"1\" class=\"dataframe\">\n",
       "  <thead>\n",
       "    <tr style=\"text-align: right;\">\n",
       "      <th></th>\n",
       "      <th>Y</th>\n",
       "    </tr>\n",
       "  </thead>\n",
       "  <tbody>\n",
       "    <tr>\n",
       "      <th>0</th>\n",
       "      <td>0</td>\n",
       "    </tr>\n",
       "    <tr>\n",
       "      <th>1</th>\n",
       "      <td>1</td>\n",
       "    </tr>\n",
       "    <tr>\n",
       "      <th>2</th>\n",
       "      <td>1</td>\n",
       "    </tr>\n",
       "    <tr>\n",
       "      <th>3</th>\n",
       "      <td>1</td>\n",
       "    </tr>\n",
       "  </tbody>\n",
       "</table>\n",
       "</div>"
      ],
      "text/plain": [
       "   Y\n",
       "0  0\n",
       "1  1\n",
       "2  1\n",
       "3  1"
      ]
     },
     "execution_count": 3,
     "metadata": {},
     "output_type": "execute_result"
    }
   ],
   "source": [
    "Y = [0, 1, 1, 1]\n",
    "y = pd.DataFrame({'Y': Y})\n",
    "y"
   ]
  },
  {
   "cell_type": "markdown",
   "metadata": {},
   "source": [
    "### output_map to map: number --> boolean"
   ]
  },
  {
   "cell_type": "code",
   "execution_count": 4,
   "metadata": {},
   "outputs": [],
   "source": [
    "output_map = {\n",
    "    0: 'False',\n",
    "    1: 'True'\n",
    "}"
   ]
  },
  {
   "cell_type": "code",
   "execution_count": null,
   "metadata": {},
   "outputs": [],
   "source": []
  },
  {
   "cell_type": "code",
   "execution_count": null,
   "metadata": {},
   "outputs": [],
   "source": []
  },
  {
   "cell_type": "markdown",
   "metadata": {},
   "source": [
    "# Building Tree (Functions)"
   ]
  },
  {
   "cell_type": "markdown",
   "metadata": {},
   "source": [
    "### print_output_counts(count_map) => function to print output counts"
   ]
  },
  {
   "cell_type": "code",
   "execution_count": 5,
   "metadata": {},
   "outputs": [],
   "source": [
    "def print_output_counts(count_map):\n",
    "    for i in range(len(count_map)):\n",
    "        num = count_map.index[i]\n",
    "        boolean = output_map[num]\n",
    "        count = count_map.values[i]\n",
    "        \n",
    "        print(f'Count of  {num}({boolean})  =  {count}')"
   ]
  },
  {
   "cell_type": "markdown",
   "metadata": {},
   "source": [
    "### get_entropy(count_map, total_count) => function to calculate entropy"
   ]
  },
  {
   "cell_type": "code",
   "execution_count": 6,
   "metadata": {},
   "outputs": [],
   "source": [
    "def get_entropy(count_map, total_count):\n",
    "    entropy = 0\n",
    "    \n",
    "    for count in count_map.values:\n",
    "        probab_val = count/total_count\n",
    "        log_val = math.log2(probab_val)\n",
    "        \n",
    "        entropy -= probab_val*log_val\n",
    "        \n",
    "    return entropy"
   ]
  },
  {
   "cell_type": "markdown",
   "metadata": {},
   "source": [
    "### get_gain_ratio(df, y, best_feature, info_before_split) => function to calculate gain ratio"
   ]
  },
  {
   "cell_type": "code",
   "execution_count": 7,
   "metadata": {},
   "outputs": [],
   "source": [
    "def get_gain_ratio(df, y, best_feature, info_before_split):\n",
    "    # initialize split_info and info_after_split\n",
    "    info_after_split = 0\n",
    "    split_info = 0\n",
    "    \n",
    "    # possible values for best_feature\n",
    "    possible_values = set(df[best_feature])\n",
    "    \n",
    "    # loop over possible values : val\n",
    "    for val in possible_values:\n",
    "        # find subset of y with f == val\n",
    "        y_df = y[df[best_feature] == val]\n",
    "        \n",
    "        # weight of subset\n",
    "        weight = len(y_df)/len(y)\n",
    "        \n",
    "        # calculate entropy of subset\n",
    "        count_map = y_df.Y.value_counts()\n",
    "        entropy = get_entropy(count_map, len(y_df))\n",
    "        \n",
    "        # add entropy with weight in info_after_split\n",
    "        info_after_split += weight * entropy\n",
    "            \n",
    "        # add weighted split_info in split_info\n",
    "        split_info -= weight*math.log2(weight)\n",
    "    \n",
    "    \n",
    "    # info_gain\n",
    "    info_gain = info_before_split - info_after_split\n",
    "    \n",
    "    # gain_ratio\n",
    "    gain_ratio = info_gain / split_info\n",
    "    return gain_ratio\n",
    "        "
   ]
  },
  {
   "cell_type": "markdown",
   "metadata": {},
   "source": [
    "## build_tree(df, y, unused_features, depth_level) => function to build the tree"
   ]
  },
  {
   "cell_type": "code",
   "execution_count": 8,
   "metadata": {},
   "outputs": [],
   "source": [
    "def build_tree(df, y, unused_features, depth_level):\n",
    "    # print depth level\n",
    "    print('Level ', depth_level)\n",
    "    \n",
    "    # Get count map for each output\n",
    "    count_map = y.Y.value_counts()\n",
    "    \n",
    "    # Print each output type with its count\n",
    "    print_output_counts(count_map)\n",
    "    \n",
    "    # Print entropy\n",
    "    entropy = get_entropy(count_map, len(y))\n",
    "    print(f'Current Entropy  is = {entropy}')\n",
    "    \n",
    "    \n",
    "    # base cases\n",
    "    # 1. y contains only one distinct value\n",
    "    # 2. unused_features is empty\n",
    "    if len(set(y['Y'])) == 1 or len(unused_features) == 0:\n",
    "        print('Predicted output type: ', output_map[count_map.index[0]])\n",
    "        print('Reached leaf Node')\n",
    "        print('----------------')\n",
    "        print()\n",
    "        return\n",
    "\n",
    "    \n",
    "    best_feature = \"\"\n",
    "    min_mistakes = float('infinity')\n",
    "    \n",
    "    for f in unused_features:\n",
    "        possible_values = set(df[f])\n",
    "        mistakes = 0\n",
    "        \n",
    "        # loop over possible values : val\n",
    "        for val in possible_values:\n",
    "            # find subset of df & y with f == val\n",
    "            val_df = df[df[f] == val]\n",
    "            y_df = y[df[f] == val]\n",
    "            \n",
    "            # find number of mistakes in this subset\n",
    "            # if we predict the most common y as the output\n",
    "            # find sum of all these mistakes\n",
    "            count_map = y_df.Y.value_counts()\n",
    "            mistakes += len(y_df) - count_map.values[0]\n",
    "            \n",
    "            \n",
    "        # update best feature so that that particular feature\n",
    "        # makes least number of mistakes\n",
    "        if mistakes < min_mistakes:\n",
    "            min_mistakes = mistakes\n",
    "            best_feature = f\n",
    "            \n",
    "        \n",
    "    # here you should know the best feature, print it out\n",
    "    print(\"Best Feature \", best_feature)\n",
    "    \n",
    "    # print info_gain\n",
    "    info_gain = get_gain_ratio(df, y, best_feature, entropy)\n",
    "    print(f'Splitting on feature  {best_feature}  with gain ratio {info_gain}')\n",
    "    \n",
    "    print('----------------')\n",
    "    print()\n",
    "    \n",
    "    # remove best feature from unused features\n",
    "    unused_features.discard(best_feature)\n",
    "    \n",
    "    # loop over possible values of best feature\n",
    "    possible_values = set(df[best_feature])\n",
    "    for val in possible_values:\n",
    "        # call build tree recursively\n",
    "        new_df = df[df[best_feature] == val]\n",
    "        new_y = y[df[best_feature] == val]\n",
    "        \n",
    "        build_tree(new_df, new_y, unused_features, depth_level +1)"
   ]
  },
  {
   "cell_type": "code",
   "execution_count": null,
   "metadata": {},
   "outputs": [],
   "source": []
  },
  {
   "cell_type": "markdown",
   "metadata": {},
   "source": [
    "# Build the Decision Tree | Run Code"
   ]
  },
  {
   "cell_type": "code",
   "execution_count": 9,
   "metadata": {},
   "outputs": [
    {
     "name": "stdout",
     "output_type": "stream",
     "text": [
      "Level  0\n",
      "Count of  1(True)  =  3\n",
      "Count of  0(False)  =  1\n",
      "Current Entropy  is = 0.8112781244591328\n",
      "Best Feature  X2\n",
      "Splitting on feature  X2  with gain ratio 0.31127812445913283\n",
      "----------------\n",
      "\n",
      "Level  1\n",
      "Count of  0(False)  =  1\n",
      "Count of  1(True)  =  1\n",
      "Current Entropy  is = 1.0\n",
      "Best Feature  X1\n",
      "Splitting on feature  X1  with gain ratio 1.0\n",
      "----------------\n",
      "\n",
      "Level  2\n",
      "Count of  0(False)  =  1\n",
      "Current Entropy  is = 0.0\n",
      "Predicted output type:  False\n",
      "Reached leaf Node\n",
      "----------------\n",
      "\n",
      "Level  2\n",
      "Count of  1(True)  =  1\n",
      "Current Entropy  is = 0.0\n",
      "Predicted output type:  True\n",
      "Reached leaf Node\n",
      "----------------\n",
      "\n",
      "Level  1\n",
      "Count of  1(True)  =  2\n",
      "Current Entropy  is = 0.0\n",
      "Predicted output type:  True\n",
      "Reached leaf Node\n",
      "----------------\n",
      "\n"
     ]
    }
   ],
   "source": [
    "unused_features = set(df.columns)\n",
    "build_tree(df, y, unused_features, 0)"
   ]
  },
  {
   "cell_type": "markdown",
   "metadata": {},
   "source": [
    "# |||||||||||||||||||||||||||||||||||||||||||||||||||||||||||||||||||||||||||||||||||||||||||||||||||||||||||||||||||||||||||||||"
   ]
  }
 ],
 "metadata": {
  "kernelspec": {
   "display_name": "Python 3",
   "language": "python",
   "name": "python3"
  },
  "language_info": {
   "codemirror_mode": {
    "name": "ipython",
    "version": 3
   },
   "file_extension": ".py",
   "mimetype": "text/x-python",
   "name": "python",
   "nbconvert_exporter": "python",
   "pygments_lexer": "ipython3",
   "version": "3.8.8"
  }
 },
 "nbformat": 4,
 "nbformat_minor": 1
}
